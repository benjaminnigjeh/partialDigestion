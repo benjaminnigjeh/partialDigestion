{
  "nbformat": 4,
  "nbformat_minor": 0,
  "metadata": {
    "colab": {
      "provenance": [],
      "authorship_tag": "ABX9TyN4FTgS1vbWW4nP/JvH4L/d",
      "include_colab_link": true
    },
    "kernelspec": {
      "name": "python3",
      "display_name": "Python 3"
    },
    "language_info": {
      "name": "python"
    }
  },
  "cells": [
    {
      "cell_type": "markdown",
      "metadata": {
        "id": "view-in-github",
        "colab_type": "text"
      },
      "source": [
        "<a href=\"https://colab.research.google.com/github/benjaminnigjeh/partialDigestion/blob/main/partialDigestion.ipynb\" target=\"_parent\"><img src=\"https://colab.research.google.com/assets/colab-badge.svg\" alt=\"Open In Colab\"/></a>"
      ]
    },
    {
      "cell_type": "markdown",
      "source": [
        "# (1) Install the required libraries and dependencies:\n",
        "the module requires installation of molmas from the shell using pip library manager\n",
        "\n"
      ],
      "metadata": {
        "id": "qjIemchUy3_u"
      }
    },
    {
      "cell_type": "code",
      "source": [
        "!pip install molmass"
      ],
      "metadata": {
        "colab": {
          "base_uri": "https://localhost:8080/"
        },
        "id": "QLS1TEMueixH",
        "outputId": "eb254392-ddd4-444f-995f-27d6c12f40b1"
      },
      "execution_count": null,
      "outputs": [
        {
          "output_type": "stream",
          "name": "stdout",
          "text": [
            "Collecting molmass\n",
            "  Downloading molmass-2023.8.30-py3-none-any.whl (74 kB)\n",
            "\u001b[2K     \u001b[90m━━━━━━━━━━━━━━━━━━━━━━━━━━━━━━━━━━━━━━━━\u001b[0m \u001b[32m74.7/74.7 kB\u001b[0m \u001b[31m1.2 MB/s\u001b[0m eta \u001b[36m0:00:00\u001b[0m\n",
            "\u001b[?25hInstalling collected packages: molmass\n",
            "Successfully installed molmass-2023.8.30\n"
          ]
        }
      ]
    },
    {
      "cell_type": "markdown",
      "source": [
        "# (2) Generaion of I/O module"
      ],
      "metadata": {
        "id": "-6Wh-uV4zR7i"
      }
    },
    {
      "cell_type": "code",
      "execution_count": null,
      "metadata": {
        "colab": {
          "base_uri": "https://localhost:8080/"
        },
        "id": "qkBo3QExeRqk",
        "outputId": "465fca0f-62e4-408f-f3ac-34e1d36dc3b7"
      },
      "outputs": [
        {
          "output_type": "stream",
          "name": "stdout",
          "text": [
            "C2H3NO\n",
            "             Relative mass  Fraction  Intensity %        m/z\n",
            "Mass number                                                 \n",
            "57               57.021464  0.972447   100.000000  57.021464\n",
            "58               58.023982  0.025294     2.601072  58.023982\n",
            "59               59.025729  0.002207     0.226953  59.025729\n"
          ]
        }
      ],
      "source": [
        "from molmass import Formula\n",
        "from pathlib import Path\n",
        "\n",
        "filePath = Path('/content/sample_data/out.csv')\n",
        "\n",
        "f = Formula('C2H3NO')\n",
        "print(f.formula)\n",
        "print(f.spectrum(min_intensity=0.1).dataframe())\n",
        "\n",
        "f.spectrum(min_intensity=0.1).dataframe().to_csv(filePath)\n",
        "\n",
        "\n"
      ]
    },
    {
      "cell_type": "code",
      "source": [
        "import pandas as pd\n",
        "url = 'https://raw.githubusercontent.com/benjaminnigjeh/partialDigestion/main/out.csv'\n",
        "df1 = pd.read_csv(url)\n",
        "print(df1)"
      ],
      "metadata": {
        "id": "w5PZJDeM-c_v",
        "outputId": "9634eb6f-548a-4833-aba0-19d8df3b6c77",
        "colab": {
          "base_uri": "https://localhost:8080/"
        }
      },
      "execution_count": 8,
      "outputs": [
        {
          "output_type": "stream",
          "name": "stdout",
          "text": [
            "   Mass number  Relative mass  Fraction  Intensity %        m/z\n",
            "0           57      57.021464  0.972447   100.000000  57.021464\n",
            "1           58      58.023982  0.025294     2.601072  58.023982\n",
            "2           59      59.025729  0.002207     0.226953  59.025729\n"
          ]
        }
      ]
    }
  ]
}